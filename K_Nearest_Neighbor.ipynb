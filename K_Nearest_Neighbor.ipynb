{
  "nbformat": 4,
  "nbformat_minor": 0,
  "metadata": {
    "colab": {
      "provenance": []
    },
    "kernelspec": {
      "name": "python3",
      "display_name": "Python 3"
    },
    "language_info": {
      "name": "python"
    }
  },
  "cells": [
    {
      "cell_type": "code",
      "source": [
        "import numpy as np\n",
        "import pandas as pd\n",
        "from sklearn.model_selection import train_test_split\n",
        "from sklearn.preprocessing import StandardScaler\n",
        "from sklearn.neighbors import KNeighborsClassifier\n",
        "from sklearn.metrics import accuracy_score, f1_score"
      ],
      "metadata": {
        "id": "dLht5jTGZr_O"
      },
      "execution_count": 3,
      "outputs": []
    },
    {
      "cell_type": "code",
      "source": [
        "# Load the Iris dataset\n",
        "df = pd.read_csv('Iris.csv')"
      ],
      "metadata": {
        "id": "Qq0DWglZRSE6"
      },
      "execution_count": 4,
      "outputs": []
    },
    {
      "cell_type": "code",
      "source": [
        "# Separate features (X) and target (y)\n",
        "X = df.iloc[:, :-1].values\n",
        "y = df.iloc[:, -1].values"
      ],
      "metadata": {
        "id": "VKmYuIS-RSA0"
      },
      "execution_count": 5,
      "outputs": []
    },
    {
      "cell_type": "code",
      "source": [
        "# Split the data into training and testing sets (80% train, 20% test)\n",
        "# stratify=y ensures that the proportion of classes in the test set is the same as in the original dataset\n",
        "X_train, X_test, y_train, y_test = train_test_split(X, y, test_size=0.2, random_state=42, stratify=y)"
      ],
      "metadata": {
        "id": "-wRCMgExRR_G"
      },
      "execution_count": 6,
      "outputs": []
    },
    {
      "cell_type": "code",
      "source": [
        "# Initialize and fit the StandardScaler to the training data\n",
        "# This scales features to have zero mean and unit variance\n",
        "scaler = StandardScaler()\n",
        "X_train = scaler.fit_transform(X_train)"
      ],
      "metadata": {
        "id": "rwGogts8Rid4"
      },
      "execution_count": 7,
      "outputs": []
    },
    {
      "cell_type": "code",
      "source": [
        "# Apply the same scaling to the test data\n",
        "X_test = scaler.transform(X_test)"
      ],
      "metadata": {
        "id": "0zQWi9AJRiZ_"
      },
      "execution_count": 8,
      "outputs": []
    },
    {
      "cell_type": "code",
      "source": [
        "# Define a function to evaluate k-NN models with different k values and weightings\n",
        "def evaluate_knn(k_values, weighted=False):\n",
        "  results = []\n",
        "  for k in k_values:\n",
        "    # Initialize the KNeighborsClassifier model\n",
        "    if weighted:\n",
        "        # Use distance-based weighting\n",
        "        model = KNeighborsClassifier(n_neighbors=k, weights='distance')\n",
        "    else:\n",
        "        # Use uniform weighting (all neighbors have equal weight)\n",
        "        model = KNeighborsClassifier(n_neighbors=k, weights='uniform')\n",
        "\n",
        "    # Train the k-NN model using the training data\n",
        "    model.fit(X_train, y_train)\n",
        "    # Make predictions on the test data\n",
        "    y_pred = model.predict(X_test)\n",
        "\n",
        "    # Calculate accuracy\n",
        "    acc = accuracy_score(y_test, y_pred)\n",
        "    # Calculate weighted F1-score\n",
        "    f1 = f1_score(y_test, y_pred, average='weighted')\n",
        "    # Append the results for the current k value\n",
        "    results.append((k, acc, f1))\n",
        "\n",
        "  # Return the results as a pandas DataFrame\n",
        "  return pd.DataFrame(results, columns=['k', 'Accuracy', 'F1-score'])\n",
        "\n",
        "# Define the list of k values to evaluate\n",
        "k_values = [1, 3, 5]\n",
        "# Evaluate regular k-NN with uniform weighting\n",
        "regular_knn_results = evaluate_knn(k_values, weighted=False)\n",
        "# Evaluate weighted k-NN with distance-based weighting\n",
        "weighted_knn_results = evaluate_knn(k_values, weighted=True)\n",
        "\n",
        "# Print the results for regular k-NN\n",
        "print(\"Regular k-NN Results:\")\n",
        "print(regular_knn_results)\n",
        "\n",
        "# Print the results for weighted k-NN\n",
        "print(\"\\nWeighted k-NN Results:\")\n",
        "print(weighted_knn_results)"
      ],
      "metadata": {
        "colab": {
          "base_uri": "https://localhost:8080/"
        },
        "id": "ncYIfyfORiW7",
        "outputId": "0bbea3bf-40e1-4e94-aae1-1f16dc5fb100"
      },
      "execution_count": 12,
      "outputs": [
        {
          "output_type": "stream",
          "name": "stdout",
          "text": [
            "Regular k-NN Results:\n",
            "   k  Accuracy  F1-score\n",
            "0  1       1.0       1.0\n",
            "1  3       1.0       1.0\n",
            "2  5       1.0       1.0\n",
            "\n",
            "Weighted k-NN Results:\n",
            "   k  Accuracy  F1-score\n",
            "0  1       1.0       1.0\n",
            "1  3       1.0       1.0\n",
            "2  5       1.0       1.0\n"
          ]
        }
      ]
    }
  ]
}